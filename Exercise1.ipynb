{
 "cells": [
  {
   "cell_type": "code",
   "execution_count": 9,
   "id": "aac28997-ecaa-41a9-b035-23495d398e2c",
   "metadata": {},
   "outputs": [],
   "source": [
    "a=5.4"
   ]
  },
  {
   "cell_type": "code",
   "execution_count": 42,
   "id": "37d415df-9956-491a-aca8-80833cb9bacd",
   "metadata": {},
   "outputs": [],
   "source": [
    "Height_list = [23,44,23,21,66,98,66,45]"
   ]
  },
  {
   "cell_type": "code",
   "execution_count": 46,
   "id": "9e301372-91d2-4c15-9bf3-b1fa9a8861e1",
   "metadata": {},
   "outputs": [
    {
     "data": {
      "text/plain": [
       "[23, 44, 23, 21, 66, 98, 66, 45, 43]"
      ]
     },
     "execution_count": 46,
     "metadata": {},
     "output_type": "execute_result"
    }
   ],
   "source": [
    "Height_list"
   ]
  },
  {
   "cell_type": "code",
   "execution_count": 40,
   "id": "4e4a5489-7d90-42df-9146-352af92e7e9a",
   "metadata": {},
   "outputs": [
    {
     "data": {
      "text/plain": [
       "44"
      ]
     },
     "execution_count": 40,
     "metadata": {},
     "output_type": "execute_result"
    }
   ],
   "source": [
    "Height_list [1]"
   ]
  },
  {
   "cell_type": "code",
   "execution_count": 47,
   "id": "12de2a23-b63b-4136-91fe-2a7d57a64ba2",
   "metadata": {},
   "outputs": [
    {
     "data": {
      "text/plain": [
       "9"
      ]
     },
     "execution_count": 47,
     "metadata": {},
     "output_type": "execute_result"
    }
   ],
   "source": [
    "len (Height_list)"
   ]
  },
  {
   "cell_type": "code",
   "execution_count": 53,
   "id": "c6e2dab1-6958-479f-8fe2-d33651bef2a5",
   "metadata": {},
   "outputs": [
    {
     "name": "stdin",
     "output_type": "stream",
     "text": [
      "Choose a number: 5\n"
     ]
    },
    {
     "data": {
      "text/plain": [
       "str"
      ]
     },
     "execution_count": 53,
     "metadata": {},
     "output_type": "execute_result"
    }
   ],
   "source": [
    "type(input ('Choose a number:' ))"
   ]
  },
  {
   "cell_type": "code",
   "execution_count": 68,
   "id": "bf1f6f88-0846-473d-89c6-a0d3b0d4e8c0",
   "metadata": {},
   "outputs": [
    {
     "name": "stdin",
     "output_type": "stream",
     "text": [
      "Choose a number: 576\n"
     ]
    }
   ],
   "source": [
    "a1 = input ('Choose a number:')\n"
   ]
  },
  {
   "cell_type": "code",
   "execution_count": 69,
   "id": "03be033f-5a60-40e7-b5b5-35249e1f78b2",
   "metadata": {},
   "outputs": [
    {
     "data": {
      "text/plain": [
       "576.0"
      ]
     },
     "execution_count": 69,
     "metadata": {},
     "output_type": "execute_result"
    }
   ],
   "source": [
    "float(a1)"
   ]
  },
  {
   "cell_type": "code",
   "execution_count": 71,
   "id": "77962e6e-6f9a-4a12-8003-1cd2ee926818",
   "metadata": {},
   "outputs": [
    {
     "data": {
      "text/plain": [
       "str"
      ]
     },
     "execution_count": 71,
     "metadata": {},
     "output_type": "execute_result"
    }
   ],
   "source": [
    "type(a1)"
   ]
  },
  {
   "cell_type": "code",
   "execution_count": 74,
   "id": "67f99cd0-d66f-4944-8778-3437789449be",
   "metadata": {},
   "outputs": [
    {
     "data": {
      "text/plain": [
       "0"
      ]
     },
     "execution_count": 74,
     "metadata": {},
     "output_type": "execute_result"
    }
   ],
   "source": [
    "int (False)"
   ]
  },
  {
   "cell_type": "code",
   "execution_count": 73,
   "id": "39d52678-2aca-458d-9751-67f56918ef90",
   "metadata": {},
   "outputs": [
    {
     "data": {
      "text/plain": [
       "3"
      ]
     },
     "execution_count": 73,
     "metadata": {},
     "output_type": "execute_result"
    }
   ],
   "source": [
    "int (3.7)"
   ]
  },
  {
   "cell_type": "code",
   "execution_count": null,
   "id": "1de2e0d9-c492-4a4e-812b-c72e4689b3fe",
   "metadata": {},
   "outputs": [],
   "source": []
  },
  {
   "cell_type": "code",
   "execution_count": 45,
   "id": "7593a2df-d1d8-4351-aca3-f2d17d4d4452",
   "metadata": {},
   "outputs": [],
   "source": [
    "Height_list.append (43)"
   ]
  },
  {
   "cell_type": "code",
   "execution_count": 3,
   "id": "7becf7f8-4a5d-4e19-9a4a-784a61462ea7",
   "metadata": {},
   "outputs": [
    {
     "name": "stdout",
     "output_type": "stream",
     "text": [
      "5\n"
     ]
    }
   ],
   "source": [
    "print (a)"
   ]
  },
  {
   "cell_type": "code",
   "execution_count": 10,
   "id": "383936a4-1fda-41df-8bb5-a8e162881137",
   "metadata": {},
   "outputs": [
    {
     "data": {
      "text/plain": [
       "float"
      ]
     },
     "execution_count": 10,
     "metadata": {},
     "output_type": "execute_result"
    }
   ],
   "source": [
    "type (a)"
   ]
  },
  {
   "cell_type": "code",
   "execution_count": 12,
   "id": "a61eb3cf-d082-4fe8-97b5-d73d3835e089",
   "metadata": {},
   "outputs": [
    {
     "data": {
      "text/plain": [
       "float"
      ]
     },
     "execution_count": 12,
     "metadata": {},
     "output_type": "execute_result"
    }
   ],
   "source": [
    "type (4.5+3)"
   ]
  },
  {
   "cell_type": "code",
   "execution_count": 7,
   "id": "6ef8f2a4-79b2-4dd2-a945-015c5255b14d",
   "metadata": {},
   "outputs": [
    {
     "data": {
      "text/plain": [
       "4"
      ]
     },
     "execution_count": 7,
     "metadata": {},
     "output_type": "execute_result"
    }
   ],
   "source": [
    "4"
   ]
  },
  {
   "cell_type": "code",
   "execution_count": 13,
   "id": "a1307719-d92a-4227-bfac-4c4354667c7e",
   "metadata": {},
   "outputs": [
    {
     "data": {
      "text/plain": [
       "True"
      ]
     },
     "execution_count": 13,
     "metadata": {},
     "output_type": "execute_result"
    }
   ],
   "source": [
    "True"
   ]
  },
  {
   "cell_type": "code",
   "execution_count": 18,
   "id": "a647cc18-c696-4369-b607-cba444ac8f64",
   "metadata": {},
   "outputs": [
    {
     "data": {
      "text/plain": [
       "bool"
      ]
     },
     "execution_count": 18,
     "metadata": {},
     "output_type": "execute_result"
    }
   ],
   "source": [
    "type (True)"
   ]
  },
  {
   "cell_type": "code",
   "execution_count": 19,
   "id": "f5f8ddfd-c6b0-4eaa-bb6a-e18c8cd60281",
   "metadata": {},
   "outputs": [
    {
     "data": {
      "text/plain": [
       "'Rest'"
      ]
     },
     "execution_count": 19,
     "metadata": {},
     "output_type": "execute_result"
    }
   ],
   "source": [
    "\"Rest\""
   ]
  },
  {
   "cell_type": "code",
   "execution_count": 25,
   "id": "5377f968-996a-4520-babf-2c34188a83dc",
   "metadata": {},
   "outputs": [
    {
     "data": {
      "text/plain": [
       "str"
      ]
     },
     "execution_count": 25,
     "metadata": {},
     "output_type": "execute_result"
    }
   ],
   "source": [
    "type(\"Rest'\")"
   ]
  },
  {
   "cell_type": "code",
   "execution_count": 24,
   "id": "665252f4-248b-4b10-bb4c-c9eb84efcbd6",
   "metadata": {},
   "outputs": [
    {
     "data": {
      "text/plain": [
       "str"
      ]
     },
     "execution_count": 24,
     "metadata": {},
     "output_type": "execute_result"
    }
   ],
   "source": [
    "type('Rest')"
   ]
  },
  {
   "cell_type": "code",
   "execution_count": 26,
   "id": "32293642-36d7-4558-9184-f44c745833a1",
   "metadata": {},
   "outputs": [],
   "source": [
    "text = \"Navya\""
   ]
  },
  {
   "cell_type": "code",
   "execution_count": 30,
   "id": "1492c631-1a87-478d-977b-b26d2c90e5f4",
   "metadata": {},
   "outputs": [
    {
     "data": {
      "text/plain": [
       "str"
      ]
     },
     "execution_count": 30,
     "metadata": {},
     "output_type": "execute_result"
    }
   ],
   "source": [
    "type (\"3\")"
   ]
  },
  {
   "cell_type": "code",
   "execution_count": 33,
   "id": "b119fd6b-85e7-4bd1-8f5c-5a97c1bafd18",
   "metadata": {},
   "outputs": [
    {
     "data": {
      "text/plain": [
       "'hello  world'"
      ]
     },
     "execution_count": 33,
     "metadata": {},
     "output_type": "execute_result"
    }
   ],
   "source": [
    "\"hello \" + \" world\""
   ]
  },
  {
   "cell_type": "code",
   "execution_count": 36,
   "id": "61b7f3f5-3b08-4d67-9319-affe1d40201b",
   "metadata": {},
   "outputs": [
    {
     "data": {
      "text/plain": [
       "str"
      ]
     },
     "execution_count": 36,
     "metadata": {},
     "output_type": "execute_result"
    }
   ],
   "source": [
    "type(\"3\"+\"3\")"
   ]
  },
  {
   "cell_type": "code",
   "execution_count": 75,
   "id": "6ee060d6-5d1a-454c-b365-5d78d12a711b",
   "metadata": {},
   "outputs": [
    {
     "name": "stdin",
     "output_type": "stream",
     "text": [
      "Enter the name of person: abhishek\n",
      "Enter the age of person: 43\n"
     ]
    }
   ],
   "source": [
    "Name_per = input ('Enter the name of person:')\n",
    "Age_per= input ('Enter the age of person:')"
   ]
  },
  {
   "cell_type": "code",
   "execution_count": 104,
   "id": "60aed944-1f08-4113-addf-4011106f5f6e",
   "metadata": {},
   "outputs": [
    {
     "name": "stdout",
     "output_type": "stream",
     "text": [
      "Hello abhishek Your Age is 43\n"
     ]
    }
   ],
   "source": [
    "\n",
    "print('Hello ' + Name_per + ' Your Age is ' + Age_per)\n"
   ]
  },
  {
   "cell_type": "code",
   "execution_count": 79,
   "id": "6de9ad97-2ef4-4feb-8327-fd8a20907728",
   "metadata": {},
   "outputs": [
    {
     "data": {
      "text/plain": [
       "'43'"
      ]
     },
     "execution_count": 79,
     "metadata": {},
     "output_type": "execute_result"
    }
   ],
   "source": [
    "Age_per"
   ]
  },
  {
   "cell_type": "code",
   "execution_count": 95,
   "id": "1571fc84-a56c-4fd7-aed7-029b07e9c067",
   "metadata": {},
   "outputs": [
    {
     "ename": "SyntaxError",
     "evalue": "invalid syntax (3871436349.py, line 4)",
     "output_type": "error",
     "traceback": [
      "\u001b[0;36m  Cell \u001b[0;32mIn[95], line 4\u001b[0;36m\u001b[0m\n\u001b[0;31m    Num1 \"+\" Num2 \"=\" str(Num3)\u001b[0m\n\u001b[0m         ^\u001b[0m\n\u001b[0;31mSyntaxError\u001b[0m\u001b[0;31m:\u001b[0m invalid syntax\n"
     ]
    }
   ],
   "source": [
    "Num1 = input ('Enter the number one')\n",
    "Num2 = input ('Enter the number two')\n",
    "Num3 = int(Num1)+int(Num2)\n"
   ]
  },
  {
   "cell_type": "code",
   "execution_count": 99,
   "id": "496bd27d-3fc4-4979-978f-9399788a9e19",
   "metadata": {},
   "outputs": [
    {
     "data": {
      "text/plain": [
       "'5+5=10'"
      ]
     },
     "execution_count": 99,
     "metadata": {},
     "output_type": "execute_result"
    }
   ],
   "source": [
    "Num1 + \"+\" + Num2 + \"=\" + str(Num3)"
   ]
  },
  {
   "cell_type": "code",
   "execution_count": 103,
   "id": "66186756-874c-4cb8-8aa8-66e3cc0dd24a",
   "metadata": {},
   "outputs": [
    {
     "name": "stdout",
     "output_type": "stream",
     "text": [
      "Test\n",
      "Hello World1\n",
      "Test1\n"
     ]
    }
   ],
   "source": [
    "print (\"Test\")\n",
    "print (\"Hello World1\")\n",
    "print (\"Test1\")"
   ]
  },
  {
   "cell_type": "code",
   "execution_count": 90,
   "id": "c11f2592-fda9-435a-b6d2-590a1a8232a1",
   "metadata": {},
   "outputs": [
    {
     "name": "stdout",
     "output_type": "stream",
     "text": [
      "102.1\n",
      "25.525\n"
     ]
    }
   ],
   "source": [
    "List_Number = [10.2,15.5,35.6,40.8]\n",
    "Sum1 = sum (List_Number)\n",
    "Average = Sum1/ len (List_Number)\n",
    "print (Sum1)\n",
    "print (Average)"
   ]
  },
  {
   "cell_type": "code",
   "execution_count": 108,
   "id": "d0ab4e4e-a8f3-42bb-99e3-cbff6af42c2f",
   "metadata": {},
   "outputs": [],
   "source": [
    "def say_hello ():\n",
    "    print (\"Hello\")\n",
    "    print (\"yello\")"
   ]
  },
  {
   "cell_type": "code",
   "execution_count": 109,
   "id": "d57d3228-7e75-450b-9e92-08106fbf7678",
   "metadata": {},
   "outputs": [
    {
     "name": "stdout",
     "output_type": "stream",
     "text": [
      "Hello\n",
      "yello\n"
     ]
    }
   ],
   "source": [
    "say_hello ()"
   ]
  },
  {
   "cell_type": "code",
   "execution_count": 118,
   "id": "86477aa8-2384-4485-a556-8585cbe91ce0",
   "metadata": {},
   "outputs": [],
   "source": [
    "def say_hi (user_n, user_a):\n",
    "    print (\"Hello \" + str(user_n) +\" your age \" + str(user_a))\n"
   ]
  },
  {
   "cell_type": "code",
   "execution_count": 120,
   "id": "8ea41307-697b-4e46-9da4-b15bccf9f940",
   "metadata": {},
   "outputs": [
    {
     "name": "stdout",
     "output_type": "stream",
     "text": [
      "Hello ab your age 10\n"
     ]
    }
   ],
   "source": [
    "say_hi (\"ab\", 10)"
   ]
  },
  {
   "cell_type": "code",
   "execution_count": 121,
   "id": "dac66ae7-6bdc-4ab4-a0ef-cf52a384cdc3",
   "metadata": {},
   "outputs": [],
   "source": [
    "def double_num (input1):\n",
    "    return input1*2"
   ]
  },
  {
   "cell_type": "code",
   "execution_count": 125,
   "id": "8f305c43-37e5-40b1-8bb2-a25e7cd5065a",
   "metadata": {},
   "outputs": [
    {
     "name": "stdout",
     "output_type": "stream",
     "text": [
      "30\n"
     ]
    }
   ],
   "source": [
    "ye = double_num (15)\n",
    "print (ye)"
   ]
  },
  {
   "cell_type": "code",
   "execution_count": 130,
   "id": "5fc0861f-3f7c-4f1e-a40d-a3a1d11abbc1",
   "metadata": {},
   "outputs": [],
   "source": [
    "def print_double_num (input2):\n",
    "    yee = double_num (input2)\n",
    "    print (\" the double of \" + str (input2) + \" is \" + str(yee))"
   ]
  },
  {
   "cell_type": "code",
   "execution_count": 131,
   "id": "e0e6a85f-5249-434a-b290-3aade4bc6e38",
   "metadata": {},
   "outputs": [
    {
     "name": "stdout",
     "output_type": "stream",
     "text": [
      " the double of 10 is 20\n"
     ]
    }
   ],
   "source": [
    "print_double_num (10)"
   ]
  }
 ],
 "metadata": {
  "kernelspec": {
   "display_name": "Python 3 (ipykernel)",
   "language": "python",
   "name": "python3"
  },
  "language_info": {
   "codemirror_mode": {
    "name": "ipython",
    "version": 3
   },
   "file_extension": ".py",
   "mimetype": "text/x-python",
   "name": "python",
   "nbconvert_exporter": "python",
   "pygments_lexer": "ipython3",
   "version": "3.10.8"
  }
 },
 "nbformat": 4,
 "nbformat_minor": 5
}
