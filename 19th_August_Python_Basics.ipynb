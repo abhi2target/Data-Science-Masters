{
 "cells": [
  {
   "cell_type": "markdown",
   "id": "1a22081b-87a2-4675-aed4-14ded84d31e7",
   "metadata": {},
   "source": [
    "Python basic variable 1 - Program to swap values without temp variable"
   ]
  },
  {
   "cell_type": "code",
   "execution_count": 38,
   "id": "07cde09b-d4f9-4dc7-a0b2-4c21167a8a69",
   "metadata": {},
   "outputs": [
    {
     "name": "stdout",
     "output_type": "stream",
     "text": [
      "15\n",
      "20\n"
     ]
    }
   ],
   "source": [
    "x =20\n",
    "y = 15\n",
    "\n",
    "x = x+y\n",
    "y = x-y\n",
    "x= x-y\n",
    "\n",
    "\n",
    "\n",
    "print (x)\n",
    "print (y)"
   ]
  },
  {
   "cell_type": "markdown",
   "id": "b3843cf4-181b-4fc3-84bf-1019e1568e47",
   "metadata": {},
   "source": [
    "Python basic variable\n",
    "2 - Program to create area of rectangle"
   ]
  },
  {
   "cell_type": "code",
   "execution_count": 2,
   "id": "a8300b02-76fe-4542-9050-1c45c798da58",
   "metadata": {},
   "outputs": [
    {
     "name": "stdin",
     "output_type": "stream",
     "text": [
      "Enter the length of rectangle 10\n",
      "Enter the width of rectangle 5\n"
     ]
    },
    {
     "name": "stdout",
     "output_type": "stream",
     "text": [
      "The area of rectangle is 50\n"
     ]
    }
   ],
   "source": [
    "x = int(input (\"Enter the length of rectangle\"))\n",
    "y = int(input (\"Enter the width of rectangle\"))\n",
    "print (\"The area of rectangle is\", x*y)"
   ]
  },
  {
   "cell_type": "markdown",
   "id": "b7934fa1-0cb6-40cb-9018-49279b5490a7",
   "metadata": {},
   "source": [
    "Python basic variable\n",
    "3 - Program to convert celcius to farenheit"
   ]
  },
  {
   "cell_type": "code",
   "execution_count": 4,
   "id": "17ff0438-5ea5-43a1-b8dd-de66ef5e4a2e",
   "metadata": {},
   "outputs": [
    {
     "name": "stdin",
     "output_type": "stream",
     "text": [
      "Enter the temperature into celcius 100\n"
     ]
    },
    {
     "name": "stdout",
     "output_type": "stream",
     "text": [
      " The temperature in ferenheit is 212.0\n"
     ]
    }
   ],
   "source": [
    "a = int(input (\"Enter the temperature into celcius\"))\n",
    "print (\" The temperature in ferenheit is\", a*9/5 +32)"
   ]
  },
  {
   "cell_type": "markdown",
   "id": "fbd38de8-939c-494a-8d4b-4edc0fa2f5b1",
   "metadata": {},
   "source": [
    "String Based Question\n",
    "1 - Take string as input and print length of string"
   ]
  },
  {
   "cell_type": "code",
   "execution_count": 6,
   "id": "d286e9a0-89a3-4809-b3ed-2ac32d8c1976",
   "metadata": {},
   "outputs": [
    {
     "name": "stdin",
     "output_type": "stream",
     "text": [
      "Enter the string so measure the length Hello\n"
     ]
    },
    {
     "name": "stdout",
     "output_type": "stream",
     "text": [
      "The length of the string entered is 5\n"
     ]
    }
   ],
   "source": [
    "Sample_Str = input (\"Enter the string so measure the length\")\n",
    "print (\"The length of the string entered is\", len(Sample_Str))"
   ]
  },
  {
   "cell_type": "markdown",
   "id": "7aeaf909-3dce-4fad-acac-5ee36c61f2a6",
   "metadata": {},
   "source": [
    "String Based Question\n",
    "2 - Take string as calculate the vowels"
   ]
  },
  {
   "cell_type": "code",
   "execution_count": 11,
   "id": "ca888004-9c55-4c91-aeba-23d9bd62125e",
   "metadata": {},
   "outputs": [
    {
     "name": "stdin",
     "output_type": "stream",
     "text": [
      "Enter the sample string to count vowels THIS IS REALLY GOOD subject\n"
     ]
    },
    {
     "name": "stdout",
     "output_type": "stream",
     "text": [
      "8\n"
     ]
    }
   ],
   "source": [
    "Sample_VW_str = input (\"Enter the sample string to count vowels\")\n",
    "length_str = len (Sample_VW_str)\n",
    "Count_VW = 0\n",
    "for i in range(length_str):\n",
    "    if Sample_VW_str[i] in ('a','i','o','e','u','A','E','I','O','U'):\n",
    "        Count_VW = Count_VW+1\n",
    "\n",
    "print (Count_VW)"
   ]
  },
  {
   "cell_type": "markdown",
   "id": "785ef4d0-1951-451f-836b-a7f8498e56f6",
   "metadata": {},
   "source": [
    "String Based Question\n",
    "3 - Reverse the string using string slicing "
   ]
  },
  {
   "cell_type": "code",
   "execution_count": 24,
   "id": "0c525542-d357-4525-a645-f49118fdbb57",
   "metadata": {},
   "outputs": [
    {
     "data": {
      "text/plain": [
       "'gnirts elpmas ym si sihT'"
      ]
     },
     "execution_count": 24,
     "metadata": {},
     "output_type": "execute_result"
    }
   ],
   "source": [
    "Sample_Str = \"This is my sample string\"\n",
    "Sample_Str [::-1]"
   ]
  },
  {
   "cell_type": "markdown",
   "id": "30b407be-0a7f-46c0-abe0-95b685cc0197",
   "metadata": {},
   "source": [
    "String Based Question\n",
    "4- Find if the string is a palindrome"
   ]
  },
  {
   "cell_type": "code",
   "execution_count": 25,
   "id": "86f34808-7942-4be9-b64a-611f74e8fe76",
   "metadata": {},
   "outputs": [
    {
     "name": "stdin",
     "output_type": "stream",
     "text": [
      "Enter the string to check if it is a palindrom agertweklemrwe\n"
     ]
    },
    {
     "name": "stdout",
     "output_type": "stream",
     "text": [
      "not a palindrom\n"
     ]
    }
   ],
   "source": [
    "Sample_PLD_Str = input (\"Enter the string to check if it is a palindrom\")\n",
    "len_pld_str = len(Sample_PLD_Str)\n",
    "flag_t = 0\n",
    "for i in range (len_pld_str//2):\n",
    "    if Sample_PLD_Str[i] != Sample_PLD_Str [len_pld_str-1]:\n",
    "        flag_t = 1\n",
    "    break\n",
    "if flag_t == 0:\n",
    "    print(\"number is palindrome\")\n",
    "else:\n",
    "    print (\"not a palindrom\")\n",
    "        \n",
    "    "
   ]
  },
  {
   "cell_type": "markdown",
   "id": "c39b2b95-d189-4402-ab4d-4afdb7023f65",
   "metadata": {},
   "source": [
    "String Based Question 5- Remove spaces"
   ]
  },
  {
   "cell_type": "code",
   "execution_count": 33,
   "id": "e2c4033f-2f15-48df-852a-d9624f9d3983",
   "metadata": {},
   "outputs": [
    {
     "name": "stdin",
     "output_type": "stream",
     "text": [
      "Enter the string to remove the spaces hello hi#\n"
     ]
    },
    {
     "name": "stdout",
     "output_type": "stream",
     "text": [
      "hellohi#\n"
     ]
    }
   ],
   "source": [
    "Remove_space = input (\"Enter the string to remove the spaces\")\n",
    "Remove_space = Remove_space.replace (\" \",\"\")\n",
    "print (Remove_space)"
   ]
  },
  {
   "cell_type": "code",
   "execution_count": null,
   "id": "7ae8f40c-eda0-4206-87dc-ad5d629880e6",
   "metadata": {},
   "outputs": [],
   "source": []
  },
  {
   "cell_type": "code",
   "execution_count": null,
   "id": "a05c3de9-0fff-4bc3-b71e-1865bc843b93",
   "metadata": {},
   "outputs": [],
   "source": []
  }
 ],
 "metadata": {
  "kernelspec": {
   "display_name": "Python 3 (ipykernel)",
   "language": "python",
   "name": "python3"
  },
  "language_info": {
   "codemirror_mode": {
    "name": "ipython",
    "version": 3
   },
   "file_extension": ".py",
   "mimetype": "text/x-python",
   "name": "python",
   "nbconvert_exporter": "python",
   "pygments_lexer": "ipython3",
   "version": "3.10.8"
  }
 },
 "nbformat": 4,
 "nbformat_minor": 5
}
