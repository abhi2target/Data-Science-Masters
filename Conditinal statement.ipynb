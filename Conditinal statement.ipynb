{
 "cells": [
  {
   "cell_type": "code",
   "execution_count": 3,
   "id": "3c5dce83-7c2a-48eb-acfe-e87c2e7b87a8",
   "metadata": {},
   "outputs": [
    {
     "name": "stdin",
     "output_type": "stream",
     "text": [
      "Enter your Age 12\n"
     ]
    }
   ],
   "source": [
    "# if statement\n",
    "Age = int(input(\"Enter your Age\"))\n",
    "if Age>=18 and Age<45:\n",
    "    print (\"you are young\")"
   ]
  },
  {
   "cell_type": "code",
   "execution_count": 4,
   "id": "34f18f69-53d4-43f7-b165-b2281d13fe13",
   "metadata": {},
   "outputs": [
    {
     "name": "stdin",
     "output_type": "stream",
     "text": [
      "Enter your Age 1\n"
     ]
    },
    {
     "name": "stdout",
     "output_type": "stream",
     "text": [
      "you are old age\n"
     ]
    }
   ],
   "source": [
    "# if - else statement\n",
    "Age = int(input(\"Enter your Age\"))\n",
    "if Age>=18 and Age<45:\n",
    "    print (\"you are young\")\n",
    "else:\n",
    "    print(\"you are old age\")\n"
   ]
  },
  {
   "cell_type": "code",
   "execution_count": 5,
   "id": "f6a9661b-0d40-4b7a-83ba-985dfd07745a",
   "metadata": {},
   "outputs": [
    {
     "name": "stdin",
     "output_type": "stream",
     "text": [
      "Enter the prodcut price 100\n"
     ]
    },
    {
     "name": "stdout",
     "output_type": "stream",
     "text": [
      "The price of the product is: 90.0\n"
     ]
    }
   ],
   "source": [
    "# samp. problem\n",
    "Product_Price = int(input (\"Enter the prodcut price\"))\n",
    "if Product_Price > 1000:\n",
    "    Discounted_Price = Product_Price - Product_Price*20/100\n",
    "else:\n",
    "    Discounted_Price =  Product_Price - Product_Price*10/100\n",
    "    \n",
    "    print(\"The price of the product is:\", Discounted_Price)"
   ]
  },
  {
   "cell_type": "code",
   "execution_count": 12,
   "id": "b7adf856-2beb-43b7-8ad3-b9a8d218fe9c",
   "metadata": {},
   "outputs": [
    {
     "name": "stdin",
     "output_type": "stream",
     "text": [
      "Enter the prodcut price 2500\n"
     ]
    },
    {
     "name": "stdout",
     "output_type": "stream",
     "text": [
      "The price of the product is: 1750.0\n"
     ]
    }
   ],
   "source": [
    "Product_Price = int(input (\"Enter the prodcut price\"))\n",
    "if Product_Price > 3000:\n",
    "    Discounted_Price = Product_Price*0.8\n",
    "elif Product_Price >2000 and Product_Price <=3000:\n",
    "    Discounted_Price = Product_Price*0.7\n",
    "elif Product_Price>=100 and Product_Price <=2000:\n",
    "    Discounted_Price = Product_Price*0.6\n",
    "else:\n",
    "    Discounted_Price = Product_Price\n",
    "      \n",
    "print(\"The price of the product is:\", Discounted_Price)"
   ]
  },
  {
   "cell_type": "code",
   "execution_count": null,
   "id": "48307abd-81cc-405f-a7e4-cfc2f16b891c",
   "metadata": {},
   "outputs": [],
   "source": []
  },
  {
   "cell_type": "code",
   "execution_count": null,
   "id": "9a1ea6dc-0bcc-4649-8f7f-0c5fee32ffb1",
   "metadata": {},
   "outputs": [],
   "source": []
  },
  {
   "cell_type": "code",
   "execution_count": null,
   "id": "b9afc682-39fd-4150-9143-df97fdcf9b48",
   "metadata": {},
   "outputs": [],
   "source": []
  },
  {
   "cell_type": "code",
   "execution_count": null,
   "id": "cbbf6a0a-f8eb-4ca9-8b91-eb9b6886ab25",
   "metadata": {},
   "outputs": [],
   "source": []
  },
  {
   "cell_type": "code",
   "execution_count": null,
   "id": "5ed01e6f-621b-45a9-b9d0-12fae09805e6",
   "metadata": {},
   "outputs": [],
   "source": []
  }
 ],
 "metadata": {
  "kernelspec": {
   "display_name": "Python 3 (ipykernel)",
   "language": "python",
   "name": "python3"
  },
  "language_info": {
   "codemirror_mode": {
    "name": "ipython",
    "version": 3
   },
   "file_extension": ".py",
   "mimetype": "text/x-python",
   "name": "python",
   "nbconvert_exporter": "python",
   "pygments_lexer": "ipython3",
   "version": "3.10.8"
  }
 },
 "nbformat": 4,
 "nbformat_minor": 5
}
