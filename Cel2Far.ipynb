{
 "cells": [
  {
   "cell_type": "code",
   "execution_count": 8,
   "id": "2c8fa7ad-5cfb-412a-b336-c57ed508bf15",
   "metadata": {},
   "outputs": [],
   "source": [
    "def Convert (Cel):\n",
    "    Far = Cel*1.8 +32\n",
    "    print (\"he temperture in Farenhite is \" + str (Far))"
   ]
  },
  {
   "cell_type": "code",
   "execution_count": 10,
   "id": "b65151ce-c95d-4b7b-ab4f-f9e14e9b90b6",
   "metadata": {},
   "outputs": [],
   "source": [
    "def Tem_Convrsion ():\n",
    "    Cel = int(input(\"Enter the temperature in Celcius\"))\n",
    "    Convert (Cel)"
   ]
  },
  {
   "cell_type": "code",
   "execution_count": 12,
   "id": "97426ccb-6c47-4a9e-8b89-2fac98a07bfd",
   "metadata": {},
   "outputs": [
    {
     "name": "stdin",
     "output_type": "stream",
     "text": [
      "Enter the temperature in Celcius 44\n"
     ]
    },
    {
     "name": "stdout",
     "output_type": "stream",
     "text": [
      "he temperture in Farenhite is 111.2\n"
     ]
    }
   ],
   "source": [
    "Tem_Convrsion()"
   ]
  }
 ],
 "metadata": {
  "kernelspec": {
   "display_name": "Python 3 (ipykernel)",
   "language": "python",
   "name": "python3"
  },
  "language_info": {
   "codemirror_mode": {
    "name": "ipython",
    "version": 3
   },
   "file_extension": ".py",
   "mimetype": "text/x-python",
   "name": "python",
   "nbconvert_exporter": "python",
   "pygments_lexer": "ipython3",
   "version": "3.10.8"
  }
 },
 "nbformat": 4,
 "nbformat_minor": 5
}
